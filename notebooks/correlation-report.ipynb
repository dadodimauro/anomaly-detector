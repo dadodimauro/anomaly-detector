{
 "cells": [
  {
   "cell_type": "code",
   "execution_count": null,
   "id": "9c18d7cd-4ff4-4840-9df5-0f2a75369a5e",
   "metadata": {},
   "outputs": [],
   "source": [
    "%cd /notebooks/anomaly-detector"
   ]
  },
  {
   "cell_type": "code",
   "execution_count": null,
   "id": "6a9f9b7b-a407-4ef7-b8b1-fb819d8e8438",
   "metadata": {},
   "outputs": [],
   "source": [
    "import os\n",
    "\n",
    "try:\n",
    "    from src.data import columns\n",
    "    from src.data import preprocessing  \n",
    "    from ydata_profiling import ProfileReport\n",
    "    \n",
    "except ModuleNotFoundError:\n",
    "    print(\"installing requirements..\")\n",
    "    from src.data import columns\n",
    "    from src.data import preprocessing\n",
    "    from ydata_profiling import ProfileReport"
   ]
  },
  {
   "cell_type": "code",
   "execution_count": null,
   "id": "bd85d63a-0273-4912-a03e-a1474aa0c028",
   "metadata": {},
   "outputs": [],
   "source": [
    "PREPROCESSING_PARAMS, TRAINING_PARAMS, INTERVALS_PARAMS, TH_ALGORITHM, df_path = params.get_params()"
   ]
  },
  {
   "cell_type": "code",
   "execution_count": null,
   "id": "77c88b50-5399-430c-83ec-9fb8460c0f88",
   "metadata": {},
   "outputs": [],
   "source": [
    "df = preprocessing.get_df(df_path, columns_name=columns_name)"
   ]
  },
  {
   "cell_type": "code",
   "execution_count": null,
   "id": "4e11a6ff-0e5c-4b25-8e5f-99715d2e4450",
   "metadata": {},
   "outputs": [],
   "source": [
    "profile = ProfileReport(df, tsmode=True, title=\"Time-Series EDA\")\n",
    "\n",
    "profile.to_file(\"reports/correlation-analysis/correlation-report.html\")"
   ]
  }
 ],
 "metadata": {
  "kernelspec": {
   "display_name": "Python 3 (ipykernel)",
   "language": "python",
   "name": "python3"
  },
  "language_info": {
   "codemirror_mode": {
    "name": "ipython",
    "version": 3
   },
   "file_extension": ".py",
   "mimetype": "text/x-python",
   "name": "python",
   "nbconvert_exporter": "python",
   "pygments_lexer": "ipython3",
   "version": "3.9.16"
  }
 },
 "nbformat": 4,
 "nbformat_minor": 5
}
